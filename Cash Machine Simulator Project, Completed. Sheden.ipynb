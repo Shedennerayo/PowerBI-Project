{
  "cells": [
    {
      "cell_type": "markdown",
      "metadata": {
        "id": "view-in-github",
        "colab_type": "text"
      },
      "source": [
        "<a href=\"https://colab.research.google.com/github/Shedennerayo/Project/blob/main/Cash%20Machine%20Simulator%20Project%2C%20Completed.%20Sheden.ipynb\" target=\"_parent\"><img src=\"https://colab.research.google.com/assets/colab-badge.svg\" alt=\"Open In Colab\"/></a>"
      ]
    },
    {
      "cell_type": "code",
      "execution_count": null,
      "metadata": {
        "id": "VL7Qq0PPiCYP"
      },
      "outputs": [],
      "source": [
        "#Atm Python Project"
      ]
    },
    {
      "cell_type": "code",
      "execution_count": null,
      "metadata": {
        "colab": {
          "base_uri": "https://localhost:8080/"
        },
        "id": "xmpeevyMijMx",
        "outputId": "129f3670-a688-4dcb-c7b5-51acb577d2b5"
      },
      "outputs": [
        {
          "name": "stdout",
          "output_type": "stream",
          "text": [
            "Paradox Corp Bank\n",
            "----------------\n",
            "\n",
            "\n",
            "Please enter your 4 digit pin number\n",
            "\n",
            "5678\n",
            "\n",
            "Try again please.\n"
          ]
        }
      ],
      "source": [
        "#Welcome Menu\n",
        "print(\"Paradox Corp Bank\")\n",
        "print(\"----------------\")\n",
        "print()\n",
        "print()\n",
        "pin= int(input(\"Please enter your 4 digit pin number\\n\\n\"))\n",
        "print()\n",
        "while True:\n",
        "\n",
        "if pin==1234:\n",
        "  print(\"Welcome to Paradox\")\n",
        "else:\n",
        "    print(\"Try again please.\")\n"
      ]
    },
    {
      "cell_type": "code",
      "execution_count": null,
      "metadata": {
        "colab": {
          "base_uri": "https://localhost:8080/"
        },
        "id": "jMnmQUWDik4R",
        "outputId": "472d1eac-24eb-4993-d6ec-ed0127e49667"
      },
      "outputs": [
        {
          "name": "stdout",
          "output_type": "stream",
          "text": [
            "Welcome to Paradox Corp\n",
            "----------------\n",
            "\n",
            "Please enter your 4 digit PIN number:\n",
            "\n",
            "1234\n",
            "Welcome to Paradox\n"
          ]
        }
      ],
      "source": [
        "print(\"Welcome to Paradox Corp\")\n",
        "print(\"----------------\")\n",
        "print()\n",
        "\n",
        "correct_pin = 1234\n",
        "max_attempts = 3\n",
        "attempt = 1\n",
        "\n",
        "while attempt <= max_attempts:\n",
        "    pin = int(input(\"Please enter your 4 digit PIN number:\\n\\n\"))\n",
        "\n",
        "    if pin == correct_pin:\n",
        "        print(\"Welcome to Paradox\")\n",
        "        break  # Exit the loop once the correct PIN is entered\n",
        "    else:\n",
        "        print(\"Incorrect PIN. Please try again.\")\n",
        "        attempt += 1\n",
        "\n",
        "if attempt > max_attempts:\n",
        "    print(\"Too many incorrect attempts. Your access is blocked.\")\n"
      ]
    },
    {
      "cell_type": "code",
      "execution_count": null,
      "metadata": {
        "colab": {
          "base_uri": "https://localhost:8080/"
        },
        "id": "tf4JNgPnm-3Q",
        "outputId": "1f89272f-c5f6-4e78-cad4-60e2ab15cc0b"
      },
      "outputs": [
        {
          "name": "stdout",
          "output_type": "stream",
          "text": [
            "Welcome to Paradox\n",
            "Please select an option:\n",
            "1. Check Balance\n",
            "2. Cash Withdrawal\n",
            "3. Deposit Funds\n",
            "4. Return Card\n",
            "Enter your choice (1-4): 2\n",
            "Cash withdrawal option selected\n"
          ]
        }
      ],
      "source": [
        "if pin == correct_pin:\n",
        "        print(\"Welcome to Paradox\")\n",
        "        print(\"Please select an option:\")\n",
        "        print(\"1. Check Balance\")\n",
        "        print(\"2. Cash Withdrawal\")\n",
        "        print(\"3. Deposit Funds\")\n",
        "        print(\"4. Return Card\")\n",
        "\n",
        "        option = int(input(\"Enter your choice (1-4): \"))\n",
        "\n",
        "        if option == 1:\n",
        "            print(\"Your balance is $1000\")  # Placeholder for balance information\n",
        "        elif option == 2:\n",
        "            print(\"Cash withdrawal option selected\")\n",
        "            # Add cash withdrawal functionality here\n",
        "        elif option == 3:\n",
        "            print(\"Deposit funds option selected\")\n",
        "            # Add deposit funds functionality here\n",
        "        elif option == 4:\n",
        "            print(\"Thank you for using Paradox Corp Bank. Goodbye!\")\n"
      ]
    },
    {
      "cell_type": "code",
      "execution_count": null,
      "metadata": {
        "colab": {
          "background_save": true,
          "base_uri": "https://localhost:8080/"
        },
        "id": "RxiHpgOkwR2L",
        "outputId": "182bf59d-adbf-4dc7-9f82-2adb6e058e48"
      },
      "outputs": [
        {
          "name": "stdout",
          "output_type": "stream",
          "text": [
            "Welcome to Paradox\n",
            "Please select an option:\n",
            "1. Check Balance\n",
            "2. Cash Withdrawal\n",
            "3. Deposit Funds\n",
            "4. Return Card\n",
            "Choose an amount to withdraw:\n",
            "1. £10\n",
            "2. £20\n",
            "3. £40\n",
            "4. £60\n",
            "5. £80\n",
            "6. £100\n",
            "7. Other Amount\n",
            "8. Main Menu\n",
            "9. Return Card\n",
            "Withdrawal successful. Your new balance is £ 650\n",
            "Please select an option:\n",
            "1. Check Balance\n",
            "2. Cash Withdrawal\n",
            "3. Deposit Funds\n",
            "4. Return Card\n",
            "Choose an amount to withdraw:\n",
            "1. £10\n",
            "2. £20\n",
            "3. £40\n",
            "4. £60\n",
            "5. £80\n",
            "6. £100\n",
            "7. Other Amount\n",
            "8. Main Menu\n",
            "9. Return Card\n",
            "Withdrawal successful. Your new balance is £ 400\n",
            "Please select an option:\n",
            "1. Check Balance\n",
            "2. Cash Withdrawal\n",
            "3. Deposit Funds\n",
            "4. Return Card\n",
            "Deposit successful. Your new balance is £ 1200\n",
            "Please select an option:\n",
            "1. Check Balance\n",
            "2. Cash Withdrawal\n",
            "3. Deposit Funds\n",
            "4. Return Card\n",
            "Thank you for using Paradox Corp Bank. Goodbye!\n"
          ]
        }
      ],
      "source": [
        "correct_pin = 1234\n",
        "max_attempts = 3\n",
        "attempt = 1\n",
        "balance = 1000  # Initial balance\n",
        "\n",
        "while attempt <= max_attempts:\n",
        "    pin = int(input(\"Please enter your 4 digit PIN number:\\n\\n\"))\n",
        "\n",
        "    if pin == correct_pin:\n",
        "        print(\"Welcome to Paradox\")\n",
        "        while True:\n",
        "            print(\"Please select an option:\")\n",
        "            print(\"1. Check Balance\")\n",
        "            print(\"2. Cash Withdrawal\")\n",
        "            print(\"3. Deposit Funds\")\n",
        "            print(\"4. Return Card\")\n",
        "\n",
        "            option = int(input(\"Enter your choice (1-4): \"))\n",
        "\n",
        "            if option == 1:\n",
        "                print(\"Your balance is £\", balance)\n",
        "            elif option == 2:\n",
        "                print(\"Choose an amount to withdraw:\")\n",
        "                print(\"1. £10\")\n",
        "                print(\"2. £20\")\n",
        "                print(\"3. £40\")\n",
        "                print(\"4. £60\")\n",
        "                print(\"5. £80\")\n",
        "                print(\"6. £100\")\n",
        "                print(\"7. Other Amount\")\n",
        "                print(\"8. Main Menu\")\n",
        "                print(\"9. Return Card\")\n",
        "\n",
        "                withdraw_option = int(input(\"Enter your choice (1-9): \"))\n",
        "\n",
        "                if withdraw_option in range(1, 7):\n",
        "                    amount = [10, 20, 40, 60, 80, 100][withdraw_option - 1]\n",
        "                elif withdraw_option == 7:\n",
        "                    amount = int(input(\"Enter the amount you would like to withdraw: £\"))\n",
        "                elif withdraw_option == 8:\n",
        "                    break  # Return to main menu\n",
        "                elif withdraw_option == 9:\n",
        "                    print(\"Thank you for using Paradox Corp Bank. Goodbye!\")\n",
        "                    quit()  # Exit the program\n",
        "                else:\n",
        "                    print(\"Invalid option. Please try again.\")\n",
        "\n",
        "                if balance >= amount:\n",
        "                    balance -= amount\n",
        "                    print(\"Withdrawal successful. Your new balance is £\", balance)\n",
        "                else:\n",
        "                    print(\"Insufficient funds. Please select a smaller amount.\")\n",
        "\n",
        "            elif option == 3:\n",
        "                deposit_amount = int(input(\"Enter the amount you would like to deposit: £\"))\n",
        "                balance += deposit_amount\n",
        "                print(\"Deposit successful. Your new balance is £\", balance)\n",
        "            elif option == 4:\n",
        "                print(\"Thank you for using Paradox Corp Bank. Goodbye!\")\n",
        "                break  # Return card and exit\n",
        "            else:\n",
        "                print(\"Invalid option. Please try again.\")\n",
        "\n",
        "    else:\n",
        "        print(\"Incorrect PIN. Please try again.\")\n",
        "        attempt += 1\n",
        "\n",
        "if attempt > max_attempts:\n",
        "    print(\"Too many incorrect attempts. Your access is blocked.\")"
      ]
    },
    {
      "cell_type": "code",
      "execution_count": null,
      "metadata": {
        "id": "0WFlOEyrimpl"
      },
      "outputs": [],
      "source": [
        "#Ask for Pin"
      ]
    },
    {
      "cell_type": "code",
      "execution_count": null,
      "metadata": {
        "id": "_yE1LsjGip7d"
      },
      "outputs": [],
      "source": [
        "#Options\n",
        "#Check balance\n",
        "#withdrawals\n",
        "#Deposit funds\n",
        "#Return card\n",
        "balance=100"
      ]
    },
    {
      "cell_type": "code",
      "execution_count": null,
      "metadata": {
        "id": "8HPxpSXapMia"
      },
      "outputs": [],
      "source": [
        "print(\"Menu\")\n",
        "print(\"\\n 1-Display Balance\\n 2-Withdraw Funds\\n 3-Deposit Funds\\n 4-Return Card\\n\")\n",
        "print()\n",
        "choice= int(input(\"Choose an Option\\n\\n\"))"
      ]
    },
    {
      "cell_type": "code",
      "execution_count": null,
      "metadata": {
        "colab": {
          "base_uri": "https://localhost:8080/"
        },
        "id": "OiPEPbVBi_PB",
        "outputId": "abd6db39-ad84-4834-e058-e628e15ee84c"
      },
      "outputs": [
        {
          "name": "stdout",
          "output_type": "stream",
          "text": [
            "Go back to main menu\n"
          ]
        }
      ],
      "source": [
        "#Print Balance\n",
        "balance=100\n",
        "if choice== 1:\n",
        "  print(\"\\n 1-Balance \\n 9-Go back to main menu \\n 10-Withdraw funds \\n 11-Exit\")\n",
        "else:\n",
        "  print(\"Go back to main menu\")\n",
        "\n"
      ]
    },
    {
      "cell_type": "code",
      "execution_count": null,
      "metadata": {
        "id": "Z-S41Z59tEsH"
      },
      "outputs": [],
      "source": []
    },
    {
      "cell_type": "code",
      "execution_count": null,
      "metadata": {
        "id": "pdLwHJqdL4ic"
      },
      "outputs": [],
      "source": []
    },
    {
      "cell_type": "code",
      "execution_count": null,
      "metadata": {
        "id": "uxF1AZiBjC-W"
      },
      "outputs": [],
      "source": [
        "#Return to main menu or exit"
      ]
    },
    {
      "cell_type": "code",
      "execution_count": null,
      "metadata": {
        "id": "O6_rjD9W-b66"
      },
      "outputs": [],
      "source": [
        "#elif withdraw_option == 1:\n",
        "# For predefined amounts\n",
        "#withdraw = 10elif withdraw_option == 2:\n",
        "#withdraw = 20elif withdraw_option == 3:\n",
        "# withdraw = 40elif withdraw_option == 4:\n",
        "#withdraw = 60elif withdraw_option == 5:\n",
        "#withdraw = 80elif withdraw_option == 6:\n",
        "#  withdraw = 100"
      ]
    },
    {
      "cell_type": "code",
      "execution_count": null,
      "metadata": {
        "colab": {
          "base_uri": "https://localhost:8080/"
        },
        "id": "GWn7K6JRM0Vb",
        "outputId": "2265c786-7e66-48de-99f6-ff368c80f82c"
      },
      "outputs": [
        {
          "name": "stdout",
          "output_type": "stream",
          "text": [
            "Please select a withdrawal option (1-9): 5\n",
            "withdrawal_amount: 80\n"
          ]
        }
      ],
      "source": [
        "withdrawal_options = {1:10,\n",
        "              2:20,\n",
        "              3:40,\n",
        "              4:60,\n",
        "              5:80,\n",
        "              6:100,\n",
        "              7:\"Other amount\",\n",
        "              8:\"Main Menu\",\n",
        "              9:\"Return Card\"\n",
        "}\n",
        "user_input = int(input(\"Please select a withdrawal option (1-9): \"))\n",
        "withdraw = withdrawal_options.get(user_input)\n",
        "print(\"withdrawal_amount:\", withdraw)"
      ]
    },
    {
      "cell_type": "code",
      "execution_count": null,
      "metadata": {
        "colab": {
          "base_uri": "https://localhost:8080/",
          "height": 207
        },
        "id": "BnFcqJjlWlzG",
        "outputId": "08cb4e04-1a7a-4cc8-f680-632f7ba490b4"
      },
      "outputs": [
        {
          "name": "stdout",
          "output_type": "stream",
          "text": [
            "Please select a withdrawal option (1-9): 3\n",
            "Withdrawal amount: 40\n"
          ]
        },
        {
          "ename": "NameError",
          "evalue": "name 'new_balance' is not defined",
          "output_type": "error",
          "traceback": [
            "\u001b[0;31m---------------------------------------------------------------------------\u001b[0m",
            "\u001b[0;31mNameError\u001b[0m                                 Traceback (most recent call last)",
            "\u001b[0;32m<ipython-input-62-0f2382fb194c>\u001b[0m in \u001b[0;36m<cell line: 5>\u001b[0;34m()\u001b[0m\n\u001b[1;32m      3\u001b[0m \u001b[0mwithdraw\u001b[0m \u001b[0;34m=\u001b[0m \u001b[0mwithdrawal_options\u001b[0m\u001b[0;34m.\u001b[0m\u001b[0mget\u001b[0m\u001b[0;34m(\u001b[0m\u001b[0muser_input\u001b[0m\u001b[0;34m)\u001b[0m\u001b[0;34m\u001b[0m\u001b[0;34m\u001b[0m\u001b[0m\n\u001b[1;32m      4\u001b[0m \u001b[0mprint\u001b[0m\u001b[0;34m(\u001b[0m\u001b[0;34m\"Withdrawal amount:\"\u001b[0m\u001b[0;34m,\u001b[0m \u001b[0mwithdraw\u001b[0m\u001b[0;34m)\u001b[0m\u001b[0;34m\u001b[0m\u001b[0;34m\u001b[0m\u001b[0m\n\u001b[0;32m----> 5\u001b[0;31m \u001b[0mprint\u001b[0m\u001b[0;34m(\u001b[0m\u001b[0;34m\"your new balance is:\"\u001b[0m\u001b[0;34m,\u001b[0m \u001b[0mnew_balance\u001b[0m\u001b[0;34m)\u001b[0m\u001b[0;34m\u001b[0m\u001b[0;34m\u001b[0m\u001b[0m\n\u001b[0m",
            "\u001b[0;31mNameError\u001b[0m: name 'new_balance' is not defined"
          ]
        }
      ],
      "source": [
        "#new_balance = balance - withdraw\n",
        "user_input = int(input(\"Please select a withdrawal option (1-9): \"))\n",
        "withdraw = withdrawal_options.get(user_input)\n",
        "print(\"Withdrawal amount:\", withdraw)\n",
        "print(\"your new balance is:\", new_balance)"
      ]
    },
    {
      "cell_type": "code",
      "execution_count": null,
      "metadata": {
        "id": "W9At3DHnN3UH"
      },
      "outputs": [],
      "source": [
        "new_balance = balance - withdraw\n",
        "if withdraw == withdrawal_options.get(user_input):\n",
        "  print(\"Your new balance is:\")\n",
        "else:\n",
        "    print(withdrawal_options)"
      ]
    },
    {
      "cell_type": "code",
      "execution_count": null,
      "metadata": {
        "id": "ax224aR3jLOf"
      },
      "outputs": [],
      "source": [
        "#Withdraw Funds\n",
        "balance = 100\n",
        "if choice == 2:\n",
        "  print(\"How much would you like to Withdraw\")\n",
        "  print(\"Please enter in multiple of 10\")\n",
        "print(\"1-£10    2-£20\\n3-£40    4-£60\\n5=80     6-£100\\n\\n7-other amount\\n8-Main menu\\n9-return card\\n\")\n",
        "#print(withdraw)\n",
        "#print(\"Your new balance is\")\n",
        "withdraw_option=int(input())\n",
        "\n",
        "\n",
        "if withdraw_option == 7:\n",
        "  while True:\n",
        "    withdraw=int(input(\"Amount you would like to withdraw: \\n\\n\"))\n",
        "    if withdraw % 10 != 0: #If not a multiple of 10 then its equal to zero\n",
        "      print(\"Enter amount you would like to withdraw\")\n",
        "    elif withdraw > balance: #balance has\n",
        "      print(\"insufficient funds. Your balance is\", balance)\n",
        "    break\n",
        "  else:\n",
        "    print(\"withdraw is succefull, Remaining balance\", balance - withdraw)\n",
        "elif withdraw_option == 1:\n",
        "    withdraw = 10\n",
        "elif withdraw_option == 2:\n",
        "    withdraw = 20\n",
        "elif withdraw_option == 3:\n",
        "    withdraw = 40\n",
        "elif withdraw_option == 4:\n",
        "    withdraw = 60\n",
        "elif withdraw_option == 5:\n",
        "    withdraw = 80\n",
        "elif withdraw_option == 6:\n",
        "    withdraw = 100\n",
        "elif withdraw_option == 8:  # Main menu\n",
        "        # Code to go back to the main menu\n",
        "        pass\n",
        "elif withdraw_option == 9:  # Return card\n",
        "        # Code to return the card\n",
        "        pass\n",
        "else:\n",
        "    print(\"Invalid Option\")\n",
        "\n",
        "\n",
        "    if withdraw_option in [1, 2, 3, 4, 5, 6, 7, 8, 9]: #withdrawal options\n",
        "\n",
        "      if withdraw > balance:\n",
        "        print(\"Insufficient funds. Your balance is\", balance)\n",
        "      else:\n",
        "        print(\"withdrawal successful. Remaining balance:\", balance - withdraw)"
      ]
    },
    {
      "cell_type": "code",
      "execution_count": null,
      "metadata": {
        "id": "selM1S-SBvGE"
      },
      "outputs": [],
      "source": [
        "#Kimberley's Code\n",
        "balance = 100\n",
        "\n",
        "if choice == 2:\n",
        "    print(\"How much do you want to withdraw? \")\n",
        "    print(\"Please enter in multiples of 10\")\n",
        "    print(\"1-£10    2-£20\\n3-£40    4-£60\\n5-£80    6-£100\\n7-Other amount\\n8-Main menu\\n9-Return card\\n\")\n",
        "    withdraw_option = int(input())\n",
        "\n",
        "\n",
        "\n",
        "    if withdraw_option == 7:  # For other amount\n",
        "     while True:\n",
        "        withdraw = int(input(\"Enter the amount to withdraw:\\n\\n \"))\n",
        "        if withdraw % 10 != 0:\n",
        "            print(\"Please enter the amount in multiples of 10.\")\n",
        "        elif withdraw > balance:\n",
        "            print(\"Insufficient funds. Your balance is\", balance)\n",
        "            break\n",
        "        else:\n",
        "            print(\"Withdrawal successful. Remaining balance:\", balance - withdraw)\n",
        "\n",
        "\n",
        "\n",
        "    elif withdraw_option == 1:\n",
        "        withdraw = 10\n",
        "    elif withdraw_option == 2:\n",
        "        withdraw = 20\n",
        "    elif withdraw_option == 3:\n",
        "        withdraw = 40\n",
        "    elif withdraw_option == 4:\n",
        "        withdraw = 60\n",
        "    elif withdraw_option == 5:\n",
        "        withdraw = 80\n",
        "    elif withdraw_option == 6:\n",
        "        withdraw = 100\n",
        "    elif withdraw_option == 8:  # Main menu\n",
        "        # Code to go back to the main menu\n",
        "        pass\n",
        "    elif withdraw_option == 9:  # Return card\n",
        "        # Code to return the card\n",
        "        pass\n",
        "    else:\n",
        "        print(\"Invalid option.\")\n",
        "\n",
        "\n",
        "\n",
        "\n",
        "\n",
        "\n",
        "    if withdraw_option in [1, 2, 3, 4, 5, 6]:  # Check if the option is a predefined amount\n",
        "        if withdraw > balance:\n",
        "            print(\"Insufficient funds your balance is\", balance)\n",
        "\n",
        "        else:\n",
        "            print(\"Withdrawal successful. Remaining balance:\", balance - withdraw)\n",
        "\n"
      ]
    },
    {
      "cell_type": "code",
      "execution_count": null,
      "metadata": {
        "id": "GWwQZkbxXGhw"
      },
      "outputs": [],
      "source": []
    },
    {
      "cell_type": "code",
      "execution_count": null,
      "metadata": {
        "id": "S0rcXO3IjRkd"
      },
      "outputs": [],
      "source": [
        "#Check for enough funds\n",
        "#int for multiples of 10\n",
        "#1=£10, 2=£20, 3=£40, 4=£60, 5=£80, 6=£100\n",
        "#other amount\n",
        "#Return to Main Menu\n",
        "#Return Card"
      ]
    },
    {
      "cell_type": "code",
      "execution_count": null,
      "metadata": {
        "colab": {
          "base_uri": "https://localhost:8080/",
          "height": 355
        },
        "id": "CJj2515-MLoR",
        "outputId": "71dc55c0-46b6-4ee7-ca1f-1b256eb1011c"
      },
      "outputs": [
        {
          "name": "stdout",
          "output_type": "stream",
          "text": [
            "Welcome to the ATM!\n",
            "\n",
            "1. Check Balance\n",
            "2. Withdraw\n",
            "3. Deposit\n",
            "4. Exit\n",
            "Enter your choice: 2\n",
            "Enter the amount to withdraw: 50\n"
          ]
        },
        {
          "ename": "NameError",
          "evalue": "name 'atm' is not defined",
          "output_type": "error",
          "traceback": [
            "\u001b[0;31m---------------------------------------------------------------------------\u001b[0m",
            "\u001b[0;31mNameError\u001b[0m                                 Traceback (most recent call last)",
            "\u001b[0;32m<ipython-input-4-39ed6810386b>\u001b[0m in \u001b[0;36m<cell line: 2>\u001b[0;34m()\u001b[0m\n\u001b[1;32m      8\u001b[0m         \u001b[0;32melif\u001b[0m \u001b[0mchoice\u001b[0m \u001b[0;34m==\u001b[0m \u001b[0;34m\"2\"\u001b[0m\u001b[0;34m:\u001b[0m\u001b[0;34m\u001b[0m\u001b[0;34m\u001b[0m\u001b[0m\n\u001b[1;32m      9\u001b[0m             \u001b[0mamount\u001b[0m \u001b[0;34m=\u001b[0m \u001b[0mfloat\u001b[0m\u001b[0;34m(\u001b[0m\u001b[0minput\u001b[0m\u001b[0;34m(\u001b[0m\u001b[0;34m\"Enter the amount to withdraw: \"\u001b[0m\u001b[0;34m)\u001b[0m\u001b[0;34m)\u001b[0m\u001b[0;34m\u001b[0m\u001b[0;34m\u001b[0m\u001b[0m\n\u001b[0;32m---> 10\u001b[0;31m             \u001b[0mresult\u001b[0m \u001b[0;34m=\u001b[0m \u001b[0matm\u001b[0m\u001b[0;34m.\u001b[0m\u001b[0mwithdraw\u001b[0m\u001b[0;34m(\u001b[0m\u001b[0mamount\u001b[0m\u001b[0;34m)\u001b[0m\u001b[0;34m\u001b[0m\u001b[0;34m\u001b[0m\u001b[0m\n\u001b[0m\u001b[1;32m     11\u001b[0m             \u001b[0mprint\u001b[0m\u001b[0;34m(\u001b[0m\u001b[0mresult\u001b[0m\u001b[0;34m)\u001b[0m\u001b[0;34m\u001b[0m\u001b[0;34m\u001b[0m\u001b[0m\n\u001b[1;32m     12\u001b[0m         \u001b[0;32melif\u001b[0m \u001b[0mchoice\u001b[0m \u001b[0;34m==\u001b[0m \u001b[0;34m\"3\"\u001b[0m\u001b[0;34m:\u001b[0m\u001b[0;34m\u001b[0m\u001b[0;34m\u001b[0m\u001b[0m\n",
            "\u001b[0;31mNameError\u001b[0m: name 'atm' is not defined"
          ]
        }
      ],
      "source": [
        "print(\"Welcome to the ATM!\")\n",
        "while True:\n",
        "        print(\"\\n1. Check Balance\\n2. Withdraw\\n3. Deposit\\n4. Exit\")\n",
        "        choice = input(\"Enter your choice: \")\n",
        "\n",
        "        if choice == \"1\":\n",
        "            print(\"Your balance:\", atm.check_balance())\n",
        "        elif choice == \"2\":\n",
        "            amount = float(input(\"Enter the amount to withdraw: \"))\n",
        "            result = atm.withdraw(amount)\n",
        "            print(result)\n",
        "        elif choice == \"3\":\n",
        "            amount = float(input(\"Enter the amount to deposit: \"))\n",
        "            result = atm.deposit(amount)\n",
        "            print(result)\n",
        "        elif choice == \"4\":\n",
        "            print(\"Thank you for using the ATM. Goodbye!\")\n",
        "            break\n",
        "        else:\n",
        "            print(\"Invalid choice. Please try again.\")"
      ]
    },
    {
      "cell_type": "code",
      "execution_count": null,
      "metadata": {
        "id": "pbSspIaijX5-"
      },
      "outputs": [],
      "source": [
        "#Show new Balance\n",
        "print(\"your new balance is:\")"
      ]
    },
    {
      "cell_type": "code",
      "execution_count": null,
      "metadata": {
        "id": "qNad-N0pkn0i"
      },
      "outputs": [],
      "source": [
        "#Deposit Funds\n",
        "print(\"Your new balance is:\")"
      ]
    },
    {
      "cell_type": "code",
      "execution_count": null,
      "metadata": {
        "id": "vZg7I7fXk3hS"
      },
      "outputs": [],
      "source": []
    },
    {
      "cell_type": "code",
      "execution_count": null,
      "metadata": {
        "id": "B29sm79Qkv1C"
      },
      "outputs": [],
      "source": [
        "#Add Desosit amount and Show new balance"
      ]
    },
    {
      "cell_type": "code",
      "execution_count": null,
      "metadata": {
        "id": "kK1nqdwJk4WG"
      },
      "outputs": [],
      "source": [
        "#only show in multiples of 10"
      ]
    },
    {
      "cell_type": "code",
      "execution_count": null,
      "metadata": {
        "id": "6-mAETT2lBRM"
      },
      "outputs": [],
      "source": [
        "#Return to main menu or Exit"
      ]
    },
    {
      "cell_type": "code",
      "execution_count": null,
      "metadata": {
        "id": "oCI9YiAjlGhK"
      },
      "outputs": [],
      "source": [
        "#Return Card or Exit"
      ]
    },
    {
      "cell_type": "code",
      "execution_count": null,
      "metadata": {
        "id": "p0tgjjR6lN9v"
      },
      "outputs": [],
      "source": [
        "#Thank you Good Bye"
      ]
    }
  ],
  "metadata": {
    "colab": {
      "provenance": [],
      "toc_visible": true,
      "authorship_tag": "ABX9TyML04i2/hXRo/mnwYKZ158V",
      "include_colab_link": true
    },
    "kernelspec": {
      "display_name": "Python 3",
      "name": "python3"
    },
    "language_info": {
      "name": "python"
    }
  },
  "nbformat": 4,
  "nbformat_minor": 0
}